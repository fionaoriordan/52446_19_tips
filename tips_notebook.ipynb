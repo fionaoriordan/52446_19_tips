{
 "cells": [
  {
   "cell_type": "markdown",
   "metadata": {},
   "source": [
    "# Fiona O'Riordan 29 November 2019\n",
    "\n",
    "## Module 52446 2019 Fundamentals of Data Analysis  \n",
    "\n",
    "## Assignment: Tips\n"
   ]
  },
  {
   "cell_type": "markdown",
   "metadata": {},
   "source": [
    "## 1. Introduction\n",
    "\n",
    "This repository is my submission for Project 2019, Module 52446: Fundamentals of Data Analysis. The project is an exploration and analysis of the python seaborn tips data set using the python packages seaborn and jupyter notebook.\n",
    "\n",
    "The project begins with background information on the tips dataset. An Exploratory Data Analysis section will describe the tips data using descriptive statistics and plots. The next section **subtitle** will focus on wether there is a relationship between the total bill and tip amount within the data set. Then, an analysis of relationship between the variables within the dataset will performed. A summary of the key findings will be listed. Lastly, appropriate references used throughout will be documented.\n",
    "\n",
    "Key Questions: \n",
    "1. What the busiest times of the restaurant?\n",
    "2. When are you most likely to earn the best tips?\n",
    "3. What factors influence tips?\n",
    "4. What is the most common tip?"
   ]
  },
  {
   "cell_type": "markdown",
   "metadata": {},
   "source": [
    "## 2. An Exploratory Data Analysis of the Tips Dataset.\n",
    "\n",
    "### 2.1 Load the data"
   ]
  },
  {
   "cell_type": "markdown",
   "metadata": {},
   "source": [
    "First lets load the seaborn tips database."
   ]
  },
  {
   "cell_type": "code",
   "execution_count": 91,
   "metadata": {},
   "outputs": [],
   "source": [
    "import pandas as pd\n",
    "import matplotlib.pyplot as plt\n",
    "import seaborn as sns\n",
    "# Taken from : https://stackoverflow.com/a/47955814 \n",
    "# Adjusting the figure size of seaborn plots in this notebook\n",
    "sns.set(rc={'figure.figsize':(10,7)})\n",
    "df = sns.load_dataset('tips')\n"
   ]
  },
  {
   "cell_type": "markdown",
   "metadata": {},
   "source": [
    "### 2.2 Explore the data\n",
    "\n",
    "Now we can begin to explore the data. We can see from the info function that we have 244 entries and 7 columns in the dataset. The first two columns, 'total_bill' and 'tip' are datatype float64. Columns 'sex', 'smoker', 'day' and 'time' are all category columns. The last column 'size' has datatype int64.  All of the columns are non-null. The Index ranges from 0 to 243."
   ]
  },
  {
   "cell_type": "code",
   "execution_count": 2,
   "metadata": {},
   "outputs": [
    {
     "name": "stdout",
     "output_type": "stream",
     "text": [
      "<class 'pandas.core.frame.DataFrame'>\n",
      "RangeIndex: 244 entries, 0 to 243\n",
      "Data columns (total 7 columns):\n",
      "total_bill    244 non-null float64\n",
      "tip           244 non-null float64\n",
      "sex           244 non-null category\n",
      "smoker        244 non-null category\n",
      "day           244 non-null category\n",
      "time          244 non-null category\n",
      "size          244 non-null int64\n",
      "dtypes: category(4), float64(2), int64(1)\n",
      "memory usage: 7.2 KB\n"
     ]
    }
   ],
   "source": [
    "(df.info())"
   ]
  },
  {
   "cell_type": "markdown",
   "metadata": {},
   "source": [
    "### 2.2 A quick look\n",
    "\n",
    "The function df.head() shows us the fist 5 entries in the database. "
   ]
  },
  {
   "cell_type": "code",
   "execution_count": 3,
   "metadata": {},
   "outputs": [
    {
     "data": {
      "text/html": [
       "<div>\n",
       "<style scoped>\n",
       "    .dataframe tbody tr th:only-of-type {\n",
       "        vertical-align: middle;\n",
       "    }\n",
       "\n",
       "    .dataframe tbody tr th {\n",
       "        vertical-align: top;\n",
       "    }\n",
       "\n",
       "    .dataframe thead th {\n",
       "        text-align: right;\n",
       "    }\n",
       "</style>\n",
       "<table border=\"1\" class=\"dataframe\">\n",
       "  <thead>\n",
       "    <tr style=\"text-align: right;\">\n",
       "      <th></th>\n",
       "      <th>total_bill</th>\n",
       "      <th>tip</th>\n",
       "      <th>sex</th>\n",
       "      <th>smoker</th>\n",
       "      <th>day</th>\n",
       "      <th>time</th>\n",
       "      <th>size</th>\n",
       "    </tr>\n",
       "  </thead>\n",
       "  <tbody>\n",
       "    <tr>\n",
       "      <th>0</th>\n",
       "      <td>16.99</td>\n",
       "      <td>1.01</td>\n",
       "      <td>Female</td>\n",
       "      <td>No</td>\n",
       "      <td>Sun</td>\n",
       "      <td>Dinner</td>\n",
       "      <td>2</td>\n",
       "    </tr>\n",
       "    <tr>\n",
       "      <th>1</th>\n",
       "      <td>10.34</td>\n",
       "      <td>1.66</td>\n",
       "      <td>Male</td>\n",
       "      <td>No</td>\n",
       "      <td>Sun</td>\n",
       "      <td>Dinner</td>\n",
       "      <td>3</td>\n",
       "    </tr>\n",
       "    <tr>\n",
       "      <th>2</th>\n",
       "      <td>21.01</td>\n",
       "      <td>3.50</td>\n",
       "      <td>Male</td>\n",
       "      <td>No</td>\n",
       "      <td>Sun</td>\n",
       "      <td>Dinner</td>\n",
       "      <td>3</td>\n",
       "    </tr>\n",
       "    <tr>\n",
       "      <th>3</th>\n",
       "      <td>23.68</td>\n",
       "      <td>3.31</td>\n",
       "      <td>Male</td>\n",
       "      <td>No</td>\n",
       "      <td>Sun</td>\n",
       "      <td>Dinner</td>\n",
       "      <td>2</td>\n",
       "    </tr>\n",
       "    <tr>\n",
       "      <th>4</th>\n",
       "      <td>24.59</td>\n",
       "      <td>3.61</td>\n",
       "      <td>Female</td>\n",
       "      <td>No</td>\n",
       "      <td>Sun</td>\n",
       "      <td>Dinner</td>\n",
       "      <td>4</td>\n",
       "    </tr>\n",
       "  </tbody>\n",
       "</table>\n",
       "</div>"
      ],
      "text/plain": [
       "   total_bill   tip     sex smoker  day    time  size\n",
       "0       16.99  1.01  Female     No  Sun  Dinner     2\n",
       "1       10.34  1.66    Male     No  Sun  Dinner     3\n",
       "2       21.01  3.50    Male     No  Sun  Dinner     3\n",
       "3       23.68  3.31    Male     No  Sun  Dinner     2\n",
       "4       24.59  3.61  Female     No  Sun  Dinner     4"
      ]
     },
     "execution_count": 3,
     "metadata": {},
     "output_type": "execute_result"
    }
   ],
   "source": [
    "df.head()"
   ]
  },
  {
   "cell_type": "markdown",
   "metadata": {},
   "source": [
    "Similarly, the function df.tail() shows us the last 5 entries in the database."
   ]
  },
  {
   "cell_type": "code",
   "execution_count": 4,
   "metadata": {},
   "outputs": [
    {
     "data": {
      "text/html": [
       "<div>\n",
       "<style scoped>\n",
       "    .dataframe tbody tr th:only-of-type {\n",
       "        vertical-align: middle;\n",
       "    }\n",
       "\n",
       "    .dataframe tbody tr th {\n",
       "        vertical-align: top;\n",
       "    }\n",
       "\n",
       "    .dataframe thead th {\n",
       "        text-align: right;\n",
       "    }\n",
       "</style>\n",
       "<table border=\"1\" class=\"dataframe\">\n",
       "  <thead>\n",
       "    <tr style=\"text-align: right;\">\n",
       "      <th></th>\n",
       "      <th>total_bill</th>\n",
       "      <th>tip</th>\n",
       "      <th>sex</th>\n",
       "      <th>smoker</th>\n",
       "      <th>day</th>\n",
       "      <th>time</th>\n",
       "      <th>size</th>\n",
       "    </tr>\n",
       "  </thead>\n",
       "  <tbody>\n",
       "    <tr>\n",
       "      <th>239</th>\n",
       "      <td>29.03</td>\n",
       "      <td>5.92</td>\n",
       "      <td>Male</td>\n",
       "      <td>No</td>\n",
       "      <td>Sat</td>\n",
       "      <td>Dinner</td>\n",
       "      <td>3</td>\n",
       "    </tr>\n",
       "    <tr>\n",
       "      <th>240</th>\n",
       "      <td>27.18</td>\n",
       "      <td>2.00</td>\n",
       "      <td>Female</td>\n",
       "      <td>Yes</td>\n",
       "      <td>Sat</td>\n",
       "      <td>Dinner</td>\n",
       "      <td>2</td>\n",
       "    </tr>\n",
       "    <tr>\n",
       "      <th>241</th>\n",
       "      <td>22.67</td>\n",
       "      <td>2.00</td>\n",
       "      <td>Male</td>\n",
       "      <td>Yes</td>\n",
       "      <td>Sat</td>\n",
       "      <td>Dinner</td>\n",
       "      <td>2</td>\n",
       "    </tr>\n",
       "    <tr>\n",
       "      <th>242</th>\n",
       "      <td>17.82</td>\n",
       "      <td>1.75</td>\n",
       "      <td>Male</td>\n",
       "      <td>No</td>\n",
       "      <td>Sat</td>\n",
       "      <td>Dinner</td>\n",
       "      <td>2</td>\n",
       "    </tr>\n",
       "    <tr>\n",
       "      <th>243</th>\n",
       "      <td>18.78</td>\n",
       "      <td>3.00</td>\n",
       "      <td>Female</td>\n",
       "      <td>No</td>\n",
       "      <td>Thur</td>\n",
       "      <td>Dinner</td>\n",
       "      <td>2</td>\n",
       "    </tr>\n",
       "  </tbody>\n",
       "</table>\n",
       "</div>"
      ],
      "text/plain": [
       "     total_bill   tip     sex smoker   day    time  size\n",
       "239       29.03  5.92    Male     No   Sat  Dinner     3\n",
       "240       27.18  2.00  Female    Yes   Sat  Dinner     2\n",
       "241       22.67  2.00    Male    Yes   Sat  Dinner     2\n",
       "242       17.82  1.75    Male     No   Sat  Dinner     2\n",
       "243       18.78  3.00  Female     No  Thur  Dinner     2"
      ]
     },
     "execution_count": 4,
     "metadata": {},
     "output_type": "execute_result"
    }
   ],
   "source": [
    "df.tail()\n"
   ]
  },
  {
   "cell_type": "markdown",
   "metadata": {},
   "source": [
    "### 2.3 A Statistical Overview"
   ]
  },
  {
   "cell_type": "markdown",
   "metadata": {},
   "source": [
    "The describe function gives us a statistical overview of the database for each of the numerical columns. We can see that we have 244 entries with no missing values. \n",
    "\n",
    "This function shows the average bill is almost $20 ($19.785943) with a standard deviation of 8.902412, the average tip is almost $3 ($2.998279) with a standard deviation of 1.38 (1.383638) and the average party size is 2.56 ($2.569672) with a standard deviation of 0.951100. The average number of diners per party are 2.56 (2.569672).\n",
    "For each of the three numerical variables/attributes the min (the minimum value of the variable), max (the maximum value of the variable) and the percentiles 25%, 50% and 75% ( the nth percentile is the lowest value that is greater than n% of the values in a particular attribute) are calucated and shown below:"
   ]
  },
  {
   "cell_type": "code",
   "execution_count": 5,
   "metadata": {},
   "outputs": [
    {
     "data": {
      "text/html": [
       "<div>\n",
       "<style scoped>\n",
       "    .dataframe tbody tr th:only-of-type {\n",
       "        vertical-align: middle;\n",
       "    }\n",
       "\n",
       "    .dataframe tbody tr th {\n",
       "        vertical-align: top;\n",
       "    }\n",
       "\n",
       "    .dataframe thead th {\n",
       "        text-align: right;\n",
       "    }\n",
       "</style>\n",
       "<table border=\"1\" class=\"dataframe\">\n",
       "  <thead>\n",
       "    <tr style=\"text-align: right;\">\n",
       "      <th></th>\n",
       "      <th>total_bill</th>\n",
       "      <th>tip</th>\n",
       "      <th>size</th>\n",
       "    </tr>\n",
       "  </thead>\n",
       "  <tbody>\n",
       "    <tr>\n",
       "      <th>count</th>\n",
       "      <td>244.000000</td>\n",
       "      <td>244.000000</td>\n",
       "      <td>244.000000</td>\n",
       "    </tr>\n",
       "    <tr>\n",
       "      <th>mean</th>\n",
       "      <td>19.785943</td>\n",
       "      <td>2.998279</td>\n",
       "      <td>2.569672</td>\n",
       "    </tr>\n",
       "    <tr>\n",
       "      <th>std</th>\n",
       "      <td>8.902412</td>\n",
       "      <td>1.383638</td>\n",
       "      <td>0.951100</td>\n",
       "    </tr>\n",
       "    <tr>\n",
       "      <th>min</th>\n",
       "      <td>3.070000</td>\n",
       "      <td>1.000000</td>\n",
       "      <td>1.000000</td>\n",
       "    </tr>\n",
       "    <tr>\n",
       "      <th>25%</th>\n",
       "      <td>13.347500</td>\n",
       "      <td>2.000000</td>\n",
       "      <td>2.000000</td>\n",
       "    </tr>\n",
       "    <tr>\n",
       "      <th>50%</th>\n",
       "      <td>17.795000</td>\n",
       "      <td>2.900000</td>\n",
       "      <td>2.000000</td>\n",
       "    </tr>\n",
       "    <tr>\n",
       "      <th>75%</th>\n",
       "      <td>24.127500</td>\n",
       "      <td>3.562500</td>\n",
       "      <td>3.000000</td>\n",
       "    </tr>\n",
       "    <tr>\n",
       "      <th>max</th>\n",
       "      <td>50.810000</td>\n",
       "      <td>10.000000</td>\n",
       "      <td>6.000000</td>\n",
       "    </tr>\n",
       "  </tbody>\n",
       "</table>\n",
       "</div>"
      ],
      "text/plain": [
       "       total_bill         tip        size\n",
       "count  244.000000  244.000000  244.000000\n",
       "mean    19.785943    2.998279    2.569672\n",
       "std      8.902412    1.383638    0.951100\n",
       "min      3.070000    1.000000    1.000000\n",
       "25%     13.347500    2.000000    2.000000\n",
       "50%     17.795000    2.900000    2.000000\n",
       "75%     24.127500    3.562500    3.000000\n",
       "max     50.810000   10.000000    6.000000"
      ]
     },
     "execution_count": 5,
     "metadata": {},
     "output_type": "execute_result"
    }
   ],
   "source": [
    "df.describe()"
   ]
  },
  {
   "cell_type": "markdown",
   "metadata": {},
   "source": [
    "### A Statistical Overview by Gender\n",
    "We can also generate a statistical overview for the numerical attributes by gender:"
   ]
  },
  {
   "cell_type": "code",
   "execution_count": 6,
   "metadata": {},
   "outputs": [
    {
     "data": {
      "text/html": [
       "<div>\n",
       "<style scoped>\n",
       "    .dataframe tbody tr th:only-of-type {\n",
       "        vertical-align: middle;\n",
       "    }\n",
       "\n",
       "    .dataframe tbody tr th {\n",
       "        vertical-align: top;\n",
       "    }\n",
       "\n",
       "    .dataframe thead th {\n",
       "        text-align: right;\n",
       "    }\n",
       "</style>\n",
       "<table border=\"1\" class=\"dataframe\">\n",
       "  <thead>\n",
       "    <tr style=\"text-align: right;\">\n",
       "      <th></th>\n",
       "      <th>total_bill</th>\n",
       "      <th>tip</th>\n",
       "      <th>size</th>\n",
       "    </tr>\n",
       "  </thead>\n",
       "  <tbody>\n",
       "    <tr>\n",
       "      <th>count</th>\n",
       "      <td>157.000000</td>\n",
       "      <td>157.000000</td>\n",
       "      <td>157.000000</td>\n",
       "    </tr>\n",
       "    <tr>\n",
       "      <th>mean</th>\n",
       "      <td>20.744076</td>\n",
       "      <td>3.089618</td>\n",
       "      <td>2.630573</td>\n",
       "    </tr>\n",
       "    <tr>\n",
       "      <th>std</th>\n",
       "      <td>9.246469</td>\n",
       "      <td>1.489102</td>\n",
       "      <td>0.955997</td>\n",
       "    </tr>\n",
       "    <tr>\n",
       "      <th>min</th>\n",
       "      <td>7.250000</td>\n",
       "      <td>1.000000</td>\n",
       "      <td>1.000000</td>\n",
       "    </tr>\n",
       "    <tr>\n",
       "      <th>25%</th>\n",
       "      <td>14.000000</td>\n",
       "      <td>2.000000</td>\n",
       "      <td>2.000000</td>\n",
       "    </tr>\n",
       "    <tr>\n",
       "      <th>50%</th>\n",
       "      <td>18.350000</td>\n",
       "      <td>3.000000</td>\n",
       "      <td>2.000000</td>\n",
       "    </tr>\n",
       "    <tr>\n",
       "      <th>75%</th>\n",
       "      <td>24.710000</td>\n",
       "      <td>3.760000</td>\n",
       "      <td>3.000000</td>\n",
       "    </tr>\n",
       "    <tr>\n",
       "      <th>max</th>\n",
       "      <td>50.810000</td>\n",
       "      <td>10.000000</td>\n",
       "      <td>6.000000</td>\n",
       "    </tr>\n",
       "  </tbody>\n",
       "</table>\n",
       "</div>"
      ],
      "text/plain": [
       "       total_bill         tip        size\n",
       "count  157.000000  157.000000  157.000000\n",
       "mean    20.744076    3.089618    2.630573\n",
       "std      9.246469    1.489102    0.955997\n",
       "min      7.250000    1.000000    1.000000\n",
       "25%     14.000000    2.000000    2.000000\n",
       "50%     18.350000    3.000000    2.000000\n",
       "75%     24.710000    3.760000    3.000000\n",
       "max     50.810000   10.000000    6.000000"
      ]
     },
     "execution_count": 6,
     "metadata": {},
     "output_type": "execute_result"
    }
   ],
   "source": [
    "(df.loc[df.loc[:,'sex']=='Male']).describe()"
   ]
  },
  {
   "cell_type": "code",
   "execution_count": 7,
   "metadata": {},
   "outputs": [
    {
     "data": {
      "text/html": [
       "<div>\n",
       "<style scoped>\n",
       "    .dataframe tbody tr th:only-of-type {\n",
       "        vertical-align: middle;\n",
       "    }\n",
       "\n",
       "    .dataframe tbody tr th {\n",
       "        vertical-align: top;\n",
       "    }\n",
       "\n",
       "    .dataframe thead th {\n",
       "        text-align: right;\n",
       "    }\n",
       "</style>\n",
       "<table border=\"1\" class=\"dataframe\">\n",
       "  <thead>\n",
       "    <tr style=\"text-align: right;\">\n",
       "      <th></th>\n",
       "      <th>total_bill</th>\n",
       "      <th>tip</th>\n",
       "      <th>size</th>\n",
       "    </tr>\n",
       "  </thead>\n",
       "  <tbody>\n",
       "    <tr>\n",
       "      <th>count</th>\n",
       "      <td>87.000000</td>\n",
       "      <td>87.000000</td>\n",
       "      <td>87.000000</td>\n",
       "    </tr>\n",
       "    <tr>\n",
       "      <th>mean</th>\n",
       "      <td>18.056897</td>\n",
       "      <td>2.833448</td>\n",
       "      <td>2.459770</td>\n",
       "    </tr>\n",
       "    <tr>\n",
       "      <th>std</th>\n",
       "      <td>8.009209</td>\n",
       "      <td>1.159495</td>\n",
       "      <td>0.937644</td>\n",
       "    </tr>\n",
       "    <tr>\n",
       "      <th>min</th>\n",
       "      <td>3.070000</td>\n",
       "      <td>1.000000</td>\n",
       "      <td>1.000000</td>\n",
       "    </tr>\n",
       "    <tr>\n",
       "      <th>25%</th>\n",
       "      <td>12.750000</td>\n",
       "      <td>2.000000</td>\n",
       "      <td>2.000000</td>\n",
       "    </tr>\n",
       "    <tr>\n",
       "      <th>50%</th>\n",
       "      <td>16.400000</td>\n",
       "      <td>2.750000</td>\n",
       "      <td>2.000000</td>\n",
       "    </tr>\n",
       "    <tr>\n",
       "      <th>75%</th>\n",
       "      <td>21.520000</td>\n",
       "      <td>3.500000</td>\n",
       "      <td>3.000000</td>\n",
       "    </tr>\n",
       "    <tr>\n",
       "      <th>max</th>\n",
       "      <td>44.300000</td>\n",
       "      <td>6.500000</td>\n",
       "      <td>6.000000</td>\n",
       "    </tr>\n",
       "  </tbody>\n",
       "</table>\n",
       "</div>"
      ],
      "text/plain": [
       "       total_bill        tip       size\n",
       "count   87.000000  87.000000  87.000000\n",
       "mean    18.056897   2.833448   2.459770\n",
       "std      8.009209   1.159495   0.937644\n",
       "min      3.070000   1.000000   1.000000\n",
       "25%     12.750000   2.000000   2.000000\n",
       "50%     16.400000   2.750000   2.000000\n",
       "75%     21.520000   3.500000   3.000000\n",
       "max     44.300000   6.500000   6.000000"
      ]
     },
     "execution_count": 7,
     "metadata": {},
     "output_type": "execute_result"
    }
   ],
   "source": [
    "(df.loc[df.loc[:,'sex']=='Female']).describe()"
   ]
  },
  {
   "cell_type": "markdown",
   "metadata": {},
   "source": [
    "## Is it a man's world ?\n",
    "\n",
    "We can see from the above tables that total number that more males (157) paid the bill than females(87). Men paid on average a higher tip (3.089618) than women (2.833448). However, men also paid on average higher bills $20.744076 versus an average bill of 18.056897 paid by women. We'll come back this later when we look at the influence of gender & smoker status on tips."
   ]
  },
  {
   "cell_type": "markdown",
   "metadata": {},
   "source": [
    "# When was the restaurant busiest?"
   ]
  },
  {
   "cell_type": "markdown",
   "metadata": {},
   "source": [
    "### Lunchtime Thursday: \n",
    "The busiest day for lunch was Thursday with 61 tables served and 150 diners. In comparision, Friday was a quiet day for lunch with only 7 tables servered and 14 diners. At the weekend, either no customers appeared for lunch, lunch was not served or no data was collected. \n",
    "### Dinnertime Weekend: \n",
    "The Thursday and Friday were very quite days for dinner with only 1 table, 2 diners and 12 tabels, 26 diners respectively.  In comparision the weekend was very busy for dinner with 87 tables, 219 diners on Saturday evening and 76 tables, 216 diners on Sunday evening.\n",
    "\n",
    "### The Busiest Time:\n",
    "The restaurant was most busy then on Saturday dinner time  with 219 diners at 87 tables and was followed closeby by Sunday evening with 216 diners at 76 tables.\n",
    "\n",
    "### The Busiest Day:\n",
    "The busiest day to work is a Saturday followed by Sunday. \n",
    "\n",
    "### The Quietest Day: \n",
    "There were only 19 tables with just 40 customers served in total served on Friday. \n",
    "\n",
    "Figure \"Number of Customers by Day and by Time\" and its underlying data summary visualise this information:\n",
    "\n",
    " "
   ]
  },
  {
   "cell_type": "code",
   "execution_count": 92,
   "metadata": {},
   "outputs": [
    {
     "data": {
      "image/png": "[encoded data removed]",
      "text/plain": [
       "<Figure size 720x504 with 1 Axes>"
      ]
     },
     "metadata": {},
     "output_type": "display_data"
    },
    {
     "data": {
      "text/html": [
       "<div>\n",
       "<style scoped>\n",
       "    .dataframe tbody tr th:only-of-type {\n",
       "        vertical-align: middle;\n",
       "    }\n",
       "\n",
       "    .dataframe tbody tr th {\n",
       "        vertical-align: top;\n",
       "    }\n",
       "\n",
       "    .dataframe thead th {\n",
       "        text-align: right;\n",
       "    }\n",
       "</style>\n",
       "<table border=\"1\" class=\"dataframe\">\n",
       "  <thead>\n",
       "    <tr style=\"text-align: right;\">\n",
       "      <th></th>\n",
       "      <th>day</th>\n",
       "      <th>time</th>\n",
       "      <th>size</th>\n",
       "    </tr>\n",
       "  </thead>\n",
       "  <tbody>\n",
       "    <tr>\n",
       "      <th>0</th>\n",
       "      <td>Thur</td>\n",
       "      <td>Lunch</td>\n",
       "      <td>150</td>\n",
       "    </tr>\n",
       "    <tr>\n",
       "      <th>1</th>\n",
       "      <td>Thur</td>\n",
       "      <td>Dinner</td>\n",
       "      <td>2</td>\n",
       "    </tr>\n",
       "    <tr>\n",
       "      <th>2</th>\n",
       "      <td>Fri</td>\n",
       "      <td>Lunch</td>\n",
       "      <td>14</td>\n",
       "    </tr>\n",
       "    <tr>\n",
       "      <th>3</th>\n",
       "      <td>Fri</td>\n",
       "      <td>Dinner</td>\n",
       "      <td>26</td>\n",
       "    </tr>\n",
       "    <tr>\n",
       "      <th>4</th>\n",
       "      <td>Sat</td>\n",
       "      <td>Dinner</td>\n",
       "      <td>219</td>\n",
       "    </tr>\n",
       "    <tr>\n",
       "      <th>5</th>\n",
       "      <td>Sun</td>\n",
       "      <td>Dinner</td>\n",
       "      <td>216</td>\n",
       "    </tr>\n",
       "  </tbody>\n",
       "</table>\n",
       "</div>"
      ],
      "text/plain": [
       "    day    time  size\n",
       "0  Thur   Lunch   150\n",
       "1  Thur  Dinner     2\n",
       "2   Fri   Lunch    14\n",
       "3   Fri  Dinner    26\n",
       "4   Sat  Dinner   219\n",
       "5   Sun  Dinner   216"
      ]
     },
     "execution_count": 92,
     "metadata": {},
     "output_type": "execute_result"
    }
   ],
   "source": [
    "# #create dataframe grouping by day & time, sum of the party size, reset the index\n",
    "df_grp1 = df.groupby(['day', 'time'])['size'].sum().reset_index()\n",
    "\n",
    "# create a figure & plot.\n",
    "fig = plt.figure()\n",
    "# create a seaborn line plot ax of dataframe df_grp1 \n",
    "#with xaxis = day, y axis = size, hue = 'time'\n",
    "ax = sns.lineplot(x='day', y='size', hue = \"time\", data=df_grp1)\n",
    "#Adding a title at the figure level\n",
    "fig.suptitle(\"Number of Customers by Day and by Time\", fontsize = 20)\n",
    "# display the plot\n",
    "plt.show()\n",
    "# display the data in df_grp1\n",
    "df_grp1"
   ]
  },
  {
   "cell_type": "markdown",
   "metadata": {},
   "source": [
    "## Are the busiest days the best days for tips?"
   ]
  },
  {
   "cell_type": "markdown",
   "metadata": {},
   "source": [
    "Yes, the busiest days are the best days for tips (Sum of Tips & Sum of Customers by Day) and in parallel  the busiest days generate the largest revenue (Sum of Tips & Sum of Bills by Day and tips appear to track bills. Figure 'Sum of Tips & Sum of Bills by Day' demonstrates this:"
   ]
  },
  {
   "cell_type": "code",
   "execution_count": 117,
   "metadata": {},
   "outputs": [
    {
     "data": {
      "image/png": "[encoded data removed]",
      "text/plain": [
       "<Figure size 720x504 with 2 Axes>"
      ]
     },
     "metadata": {},
     "output_type": "display_data"
    },
    {
     "name": "stdout",
     "output_type": "stream",
     "text": [
      "    day     tip\n",
      "0  Thur  171.83\n",
      "1   Fri   51.96\n",
      "2   Sat  260.40\n",
      "3   Sun  247.39\n",
      "    day  size\n",
      "0  Thur   152\n",
      "1   Fri    40\n",
      "2   Sat   219\n",
      "3   Sun   216\n"
     ]
    }
   ],
   "source": [
    "#Adapted from : https://stackoverflow.com/a/56881800\n",
    "#create groupby dataframe grouping by day & sum of the tips, reset the index.\n",
    "df_grp2 = df.groupby(['day'])['tip'].sum().reset_index()\n",
    "\n",
    "#create groupby dataframe grouping by day & size of the tips, reset the index but not time\n",
    "# in order to avoid x multiple points for Thursday & Friday\n",
    "df_grp4 = df.groupby(['day'])['size'].sum().reset_index()\n",
    "\n",
    "#create a figure\n",
    "fig = plt.figure()\n",
    "\n",
    "#create a bar plot for df_grp2 .i.e. plot sum of the tips on y axis 2 by day\n",
    "# Create barplot with the sum of the tips by day.\n",
    "axa = sns.barplot(x='day', y='tip', \n",
    "                  #ci=None, estimator=sum,\n",
    "                  data=df_grp2 \n",
    "                  )\n",
    "#  set the y label for axa plot\n",
    "axa.set(ylabel='Sum of the Tips')\n",
    "# Adapted from : https://stackoverflow.com/a/47592107\n",
    "#df_grp2 and df_grp3 plots share the same x axis but different y axis.\n",
    "axb = axa.twinx()\n",
    "#create a line plot for df_gp1 .i.e. plot sum of the tips on y axis 1 by day\n",
    "axb = sns.lineplot(x = \"day\", y = \"size\", color=\"k\", linewidth=2, \n",
    "                   label = 'number of customers', \n",
    "                   #ci=None, estimator=sum,\n",
    "                   data = df_grp4)\n",
    "\n",
    "axb.set(ylabel='Number of Customers')\n",
    "# create a twin plot of ax1 and called it ax2\n",
    "\n",
    "#if you want to not aggregate the data, then use \n",
    "\n",
    "\n",
    "#Adapted from : https://dev.to/skotaro/artist-in-matplotlib---something-i-wanted-to-know-before-spending-tremendous-hours-on-googling-how-tos--31oo\n",
    "#Adding a legend at the figure level\n",
    "fig.legend(loc='upper left', bbox_to_anchor=(1,1.4), \n",
    "           bbox_transform=axa.transAxes, title='Legend')\n",
    "#Add a figure title & adjust font size \n",
    "fig.suptitle(\"Sum of Tips & Sum of Customers by Day\", fontsize = 20)\n",
    " \n",
    "\n",
    "#tidy up the display\n",
    "plt.show()\n",
    " \n",
    "#TO DO ****************************\n",
    "# Create one output to show df_grp2 & df_grp4\n",
    "# ********************************************\n",
    "print(df_grp2)\n",
    "print(df_grp4)\n"
   ]
  },
  {
   "cell_type": "code",
   "execution_count": 124,
   "metadata": {},
   "outputs": [
    {
     "data": {
      "image/png": "[encoded data removed]",
      "text/plain": [
       "<Figure size 720x504 with 2 Axes>"
      ]
     },
     "metadata": {},
     "output_type": "display_data"
    },
    {
     "name": "stdout",
     "output_type": "stream",
     "text": [
      "    day  total_bill\n",
      "0  Thur     1096.33\n",
      "1   Fri      325.88\n",
      "2   Sat     1778.40\n",
      "3   Sun     1627.16\n",
      "    day  size\n",
      "0  Thur   152\n",
      "1   Fri    40\n",
      "2   Sat   219\n",
      "3   Sun   216\n"
     ]
    }
   ],
   "source": [
    "df_3 = df.groupby(['day'])['total_bill'].sum().reset_index()\n",
    "\n",
    "#create a figure\n",
    "fig2 = plt.figure()\n",
    "\n",
    "#create a bar plot for df_grp2 .i.e. plot sum of the tips on y axis 2 by day\n",
    "# Create barplot with the sum of the tips by day.\n",
    "axa = sns.barplot(x='day', y='total_bill', \n",
    "                  #ci=None, estimator=sum,\n",
    "                  data=df_3 \n",
    "                  )\n",
    "#  set the y label for axa plot\n",
    "axa.set(ylabel='Sum of Total Bills')\n",
    "# Adapted from : https://stackoverflow.com/a/47592107\n",
    "#df_grp2 and df_grp3 plots share the same x axis but different y axis.\n",
    "axb = axa.twinx()\n",
    "#create a line plot for df_gp1 .i.e. plot sum of the tips on y axis 1 by day\n",
    "axb = sns.lineplot(x = \"day\", y = \"size\", color=\"k\", linewidth=2, \n",
    "                   label = 'number of customers', \n",
    "                   #ci=None, estimator=sum,\n",
    "                   data = df_grp4)\n",
    "\n",
    "axb.set(ylabel='Number of Customers')\n",
    "# create a twin plot of ax1 and called it ax2\n",
    "\n",
    "#if you want to not aggregate the data, then use \n",
    "\n",
    "\n",
    "#Adapted from : https://dev.to/skotaro/artist-in-matplotlib---something-i-wanted-to-know-before-spending-tremendous-hours-on-googling-how-tos--31oo\n",
    "#Adding a legend at the figure level\n",
    "fig2.legend(loc='upper left', bbox_to_anchor=(1,1.4), \n",
    "           bbox_transform=axa.transAxes, title='Legend')\n",
    "#Add a figure title & adjust font size \n",
    "fig2.suptitle(\"Sum of Total Bills & Sum of Customers by Day\", fontsize = 20)\n",
    " \n",
    "\n",
    "#tidy up the display\n",
    "plt.show()\n",
    " \n",
    "#TO DO ****************************\n",
    "# Create one output to show df_grp2 & df_grp4\n",
    "# ********************************************\n",
    "print(df_3)\n",
    "print(df_grp4)"
   ]
  },
  {
   "cell_type": "code",
   "execution_count": 121,
   "metadata": {},
   "outputs": [
    {
     "data": {
      "image/png": "[encoded data removed]",
      "text/plain": [
       "<Figure size 720x504 with 2 Axes>"
      ]
     },
     "metadata": {},
     "output_type": "display_data"
    }
   ],
   "source": [
    "# create another data frame to sum bill by day\n",
    "df_3 = df.groupby(['day'])['total_bill'].sum().reset_index()\n",
    "\n",
    "#create a figure\n",
    "fig = plt.figure()\n",
    "# Adapted from : https://stackoverflow.com/a/47592107\n",
    "#create a line plot for df_2 .i.e. plot sum of the tips on y axis 1 by day\n",
    "ax1 = sns.lineplot(x = \"day\", y = \"tip\", color=\"g\", label = 'sum of tips', data = df_2)\n",
    "# create a twin plot of ax1 and called it ax2\n",
    "ax2 = ax1.twinx()\n",
    "#create a line plot for df_3 .i.e. plot sum of the total_bills on y axis 2 by day\n",
    "#df_2 and df_3 plots share the same x axis but different y axis.\n",
    "ax2 = sns.lineplot(x = \"day\" , y = \"total_bill\", color=\"b\", label = 'sum of total_bills', data = df_3)\n",
    "\n",
    "# Adapted from : https://stackoverflow.com/a/56272576\n",
    "# Adding these lines of code so that legend is only visible at fig level. \n",
    "# Otherwise you end up with ax1 legend appearing but not ax2 legend at the ax level\n",
    "ax1.legend('')\n",
    "ax2.legend('')\n",
    "\n",
    "#Adapted from : https://dev.to/skotaro/artist-in-matplotlib---something-i-wanted-to-know-before-spending-tremendous-hours-on-googling-how-tos--31oo\n",
    "#Adding a legend at the figure level\n",
    "fig.legend(loc='upper left', bbox_to_anchor=(1,1.4), \n",
    "           bbox_transform=ax1.transAxes, title='Legend')\n",
    "#Add a figure title & adjust font size \n",
    "fig.suptitle(\"Sum of Tips & Sum of Bills by Day\", fontsize = 20)\n",
    "\n",
    "#tidy up the display\n",
    "plt.show()\n",
    "\n",
    "\n"
   ]
  },
  {
   "cell_type": "markdown",
   "metadata": {},
   "source": []
  },
  {
   "cell_type": "markdown",
   "metadata": {},
   "source": [
    "## TIPS\n",
    "\n"
   ]
  },
  {
   "cell_type": "markdown",
   "metadata": {},
   "source": [
    "Most of the tips were generated by tables of 2. "
   ]
  },
  {
   "cell_type": "code",
   "execution_count": null,
   "metadata": {},
   "outputs": [],
   "source": [
    "dfsum = df.groupby('size').sum()\n",
    "dfsum"
   ]
  },
  {
   "cell_type": "markdown",
   "metadata": {},
   "source": [
    "But we know that most of the tables were of size 2. So lets look at the mean by table size:"
   ]
  },
  {
   "cell_type": "code",
   "execution_count": null,
   "metadata": {},
   "outputs": [],
   "source": [
    "dfmean = df.groupby('size').mean()\n",
    "dfmean"
   ]
  },
  {
   "cell_type": "markdown",
   "metadata": {},
   "source": [
    "The tip average is greatest for party sizes of 6. The mean tip increases as the size of the party increases and the bill."
   ]
  },
  {
   "cell_type": "markdown",
   "metadata": {},
   "source": [
    "## Size matters:"
   ]
  },
  {
   "cell_type": "markdown",
   "metadata": {},
   "source": [
    "We can apply a simple linear regression line to the data to see this relationship between tips and party size."
   ]
  },
  {
   "cell_type": "code",
   "execution_count": null,
   "metadata": {},
   "outputs": [],
   "source": [
    "ax = sns.regplot(x=\"size\", y=\"tip\", data=df)"
   ]
  },
  {
   "cell_type": "markdown",
   "metadata": {},
   "source": []
  },
  {
   "cell_type": "markdown",
   "metadata": {},
   "source": [
    "## The Size of the Bill matters too!"
   ]
  },
  {
   "cell_type": "markdown",
   "metadata": {},
   "source": [
    "\n",
    "We can also plot the relationship between total_bill and tip and we can see as the total_bill increases the tip also tends to increase."
   ]
  },
  {
   "cell_type": "code",
   "execution_count": null,
   "metadata": {},
   "outputs": [],
   "source": [
    "\n",
    "ax1 = sns.set(color_codes=True)\n",
    "\n",
    "ax1 = sns.regplot(x=\"total_bill\", y=\"tip\", data=df)\n",
    "\n",
    "# Adding a title\n",
    "ax1.figure.suptitle(\"Tip by Bill Scatter & Regression Line Plot\", fontsize = 24)\n",
    "\n",
    "plt.show()\n"
   ]
  },
  {
   "cell_type": "markdown",
   "metadata": {},
   "source": [
    "## Are smokers better tippers?"
   ]
  },
  {
   "cell_type": "markdown",
   "metadata": {},
   "source": [
    "We can include the variable smoker also and see how that might influence the relationship between total_bill and tip. \n",
    "\n",
    "The below plot \"Tip by Bill with Smoker variable included\" shows how bill payers in smoking parties are more responsive in their tipping to increases in the bill (the shaded around the regression line is greater for smoker = yes ). As the bill_total changes the bill payer in non-mokers  are more likely to adjust their tip accordingly than the bill_payer in smoking parties."
   ]
  },
  {
   "cell_type": "code",
   "execution_count": null,
   "metadata": {},
   "outputs": [],
   "source": [
    "g = sns.lmplot(x=\"total_bill\", y=\"tip\", hue=\"smoker\", data=df)\n",
    "\n",
    "#Adapted from :https://stackoverflow.com/a/42030162 to adjust the title up a little\n",
    "g.fig.subplots_adjust(top=0.9)\n",
    "# Adding a title\n",
    "g.fig.suptitle(\"Tip by Bill with Smoker variable included\", fontsize = 20)\n",
    "plt.show()"
   ]
  },
  {
   "cell_type": "markdown",
   "metadata": {},
   "source": [
    "## Does gender influence the tip?"
   ]
  },
  {
   "cell_type": "markdown",
   "metadata": {},
   "source": [
    "We can also see if the bill payer's gender influences the tip. \n",
    "\n",
    "The below scatter plot withe regression line \"Tip by Bill with Gender\" variable included appears the relationship between tip and total_bill for both sexes is quite similar since regression lines below are quite similar. \n"
   ]
  },
  {
   "cell_type": "code",
   "execution_count": null,
   "metadata": {},
   "outputs": [],
   "source": [
    "g2 = sns.lmplot(x=\"total_bill\", y=\"tip\",hue=\"sex\", data=df)\n",
    "#Adapted from :https://stackoverflow.com/a/42030162 to adjust the title up a little\n",
    "g2.fig.subplots_adjust(top=0.9)\n",
    "\n",
    "# Adding a title\n",
    "g2.fig.suptitle(\"Tip by Bill with Gender variable included\", fontsize = 20)\n",
    "plt.show()"
   ]
  },
  {
   "cell_type": "markdown",
   "metadata": {},
   "source": [
    "## The influence of sex & smoker on tips!"
   ]
  },
  {
   "cell_type": "markdown",
   "metadata": {},
   "source": [
    "When we include both gender and smoker variables we can clearly see that non smokers by comparision to somkers are more influenced by bill_total when tipping and again there is little to distinguish between male & female non smokers."
   ]
  },
  {
   "cell_type": "code",
   "execution_count": null,
   "metadata": {},
   "outputs": [],
   "source": [
    "g3 = sns.lmplot(x=\"total_bill\", y=\"tip\", col = 'smoker', row = 'sex', data=df)\n",
    "\n",
    "#Adapted from :https://stackoverflow.com/a/42030162 to adjust the title up a little\n",
    "g3.fig.subplots_adjust(top=0.9)\n",
    "g3.fig.suptitle(\"Tip by Bill with Gender & Smoker variable included\", fontsize = 20)\n",
    "plt.show()"
   ]
  },
  {
   "cell_type": "code",
   "execution_count": null,
   "metadata": {},
   "outputs": [],
   "source": []
  },
  {
   "cell_type": "markdown",
   "metadata": {},
   "source": [
    "\n",
    "## Percentage Tips paint a different picture."
   ]
  },
  {
   "cell_type": "markdown",
   "metadata": {},
   "source": [
    "So far, we have looked compared tip amount (tip) with bill amount (total_bill) and how the variables sex and smoker influence that relationship. According to Wanderlustingk.com (2018) tips in the US are based on percentage of the total bill with 15% a general standard, but 18-25% of the total bill an acceptable rule to use.\n",
    "\n",
    "So it would be useful now to take another look at these relationships but replace tip with tip as a percentage of bill_total."
   ]
  },
  {
   "cell_type": "markdown",
   "metadata": {},
   "source": [
    "### Smokers can get a little meaner."
   ]
  },
  {
   "cell_type": "markdown",
   "metadata": {},
   "source": [
    "First we create a new column in the dataframe called tip_pct. This new column is simply tips expressed as a percentage of the total_bill for each observation."
   ]
  },
  {
   "cell_type": "code",
   "execution_count": null,
   "metadata": {},
   "outputs": [],
   "source": [
    "\n",
    "#create a column to calcuate tip%\n",
    "df['tip_pct'] = 100 * df['tip'] / df['total_bill'] "
   ]
  },
  {
   "cell_type": "markdown",
   "metadata": {},
   "source": [
    "Then we can create figure \"Tip Percentage by Bill with Gender & Smoker included\". The below plots show how the bill payer in smokering parties tend to downward adjust their tip percentage as the bill amount increases. While the bill payers in smoking parties also tend to downwardly adjust their percentage tip when as the bill amount increases, they tend to do so to a lesser degree. \n",
    "\n",
    "Non Smoking parties with a male bill payer tend to use a more consistent percentage tip."
   ]
  },
  {
   "cell_type": "code",
   "execution_count": null,
   "metadata": {},
   "outputs": [],
   "source": [
    "\n",
    "\n",
    "# create a seaborn lmplot \n",
    "g4 = sns.lmplot(x=\"total_bill\", y=\"tip_pct\", col = 'smoker', row = 'sex', data=df)\n",
    "\n",
    "#Adapted from :https://stackoverflow.com/a/42030162 to adjust the title up a little\n",
    "g4.fig.subplots_adjust(top=0.9)\n",
    "g4.fig.suptitle(\"Tip Percentage by Bill with Gender & Smoker included\", fontsize = 20)\n",
    "plt.show()"
   ]
  },
  {
   "cell_type": "code",
   "execution_count": null,
   "metadata": {},
   "outputs": [],
   "source": []
  },
  {
   "cell_type": "markdown",
   "metadata": {},
   "source": [
    "## Caution:"
   ]
  },
  {
   "cell_type": "markdown",
   "metadata": {},
   "source": [
    "Female smokers pay on average the highest percentage."
   ]
  },
  {
   "cell_type": "code",
   "execution_count": null,
   "metadata": {},
   "outputs": [],
   "source": [
    "\n",
    "sns.barplot(x=\"sex\",y= \"tip_pct\", hue=\"smoker\", data=df )"
   ]
  },
  {
   "cell_type": "markdown",
   "metadata": {},
   "source": [
    "But male bill payers tend to pay for bigger bills and male bill payers in a smoking party even more so:"
   ]
  },
  {
   "cell_type": "code",
   "execution_count": null,
   "metadata": {},
   "outputs": [],
   "source": [
    "\n",
    "sns.barplot(x=\"sex\",y= \"total_bill\", hue=\"smoker\", data=df )\n"
   ]
  },
  {
   "cell_type": "markdown",
   "metadata": {},
   "source": [
    "Males on average pay a bigger tip but non smoking males tend to the biggest tip on average."
   ]
  },
  {
   "cell_type": "code",
   "execution_count": null,
   "metadata": {},
   "outputs": [],
   "source": [
    "sns.barplot(x=\"sex\",y= \"tip\", hue=\"smoker\", data=df )\n"
   ]
  },
  {
   "cell_type": "code",
   "execution_count": null,
   "metadata": {},
   "outputs": [],
   "source": [
    "#create a column to calcuate tip generated per customer served\n",
    "df['tip_per_cust'] =  df['tip'] / df['size'] \n",
    "df['tip_per_cust'] \n",
    "\n",
    "sns.barplot(x=\"size\",y= \"tip_per_cust\",  data=df )"
   ]
  },
  {
   "cell_type": "markdown",
   "metadata": {},
   "source": [
    "# What was the most frequent party size?"
   ]
  },
  {
   "cell_type": "markdown",
   "metadata": {},
   "source": [
    "## Two's Company\n",
    "Overall, by far the most frequent party size was 2 at both lunch time and dinner . The next most popular party size was 3 and then 4. The remaining party size 1, 5 and 6 were relatively infrequent. See figure \"Party Size\": "
   ]
  },
  {
   "cell_type": "code",
   "execution_count": null,
   "metadata": {},
   "outputs": [],
   "source": [
    "#Creating a figure ax using seaborn category plot function \n",
    "ax = sns.catplot(x=\"size\", kind=\"count\",\n",
    "            palette=\"pastel\", edgecolor=\".6\", \n",
    "            data=df);\n",
    "\n",
    "#Adapted from :https://stackoverflow.com/a/42030162 to adjust the title up a little\n",
    "ax.fig.subplots_adjust(top=0.8)\n",
    "# Adding a figure title with fontsize 20\n",
    "ax.fig.suptitle(\"Overall Party Size\", fontsize = 20)"
   ]
  },
  {
   "cell_type": "markdown",
   "metadata": {},
   "source": [
    "The most frequent party size was 2 at both lunch time and dinner . The next most popular party size was 3 and then 4. The remaining party size 1, 5 and 6 were relatively infrequent. See figure \"Party Size at Lunch & Dinner\":"
   ]
  },
  {
   "cell_type": "code",
   "execution_count": null,
   "metadata": {},
   "outputs": [],
   "source": [
    "\n",
    "#Creating a figure ax using seaborn category plot function \n",
    "ax = sns.catplot(x=\"size\", kind=\"count\",\n",
    "            palette=\"pastel\", edgecolor=\".6\", col = \"time\",\n",
    "            data=df);\n",
    "\n",
    "#Adapted from :https://stackoverflow.com/a/42030162 to adjust the title up a little\n",
    "ax.fig.subplots_adjust(top=0.8)\n",
    "# Adding a figure title with fontsize 20\n",
    "ax.fig.suptitle(\"Party Size at Lunch & Dinner\", fontsize = 20)\n",
    "\n",
    "\n"
   ]
  },
  {
   "cell_type": "markdown",
   "metadata": {},
   "source": [
    "In addition, regardless of the day & time, the most popular table/party size was 2 as figure 'Party size for each Day & Time' shows:"
   ]
  },
  {
   "cell_type": "code",
   "execution_count": null,
   "metadata": {},
   "outputs": [],
   "source": [
    "\n",
    "ax1 = sns.catplot (x=\"size\", hue=\"time\", kind=\"count\",\n",
    "            palette=\"pastel\", edgecolor=\".4\", row = \"day\", height=6, aspect=2,\n",
    "            data=df);\n",
    "\n",
    "sns.set(style=\"whitegrid\", font_scale=1.5)\n",
    "#Adapted from :https://stackoverflow.com/a/42030162 to adjust the title up a little\n",
    "ax1.fig.subplots_adjust(top=0.95)\n",
    "\n",
    "# Adding a title\n",
    "ax1.fig.suptitle(\"Party size for each Day & Time\", fontsize = 24)\n",
    "\n"
   ]
  },
  {
   "cell_type": "markdown",
   "metadata": {},
   "source": [
    "In fact, as the following calulation and pie chart so succintly show, almost two thirds of the total covers were for parties of 2:"
   ]
  },
  {
   "cell_type": "code",
   "execution_count": null,
   "metadata": {},
   "outputs": [],
   "source": [
    "# Adapted from https://stackoverflow.com/a/54087182\n",
    "\n",
    "import pandas as pd\n",
    "import matplotlib.pyplot as plt\n",
    "\n",
    "dfsize = df.groupby('size').size()\n",
    "\n",
    "sns.set()\n",
    "dfsize.plot(# create a pie chart\n",
    "            kind='pie', \n",
    "            # set the title of the pie chart\n",
    "            title='Size of parties', \n",
    "            # figure size\n",
    "            figsize=[8,8], \n",
    "            # with the percent listed as a fraction\n",
    "            autopct=lambda p: '{:.2f}%({:.0f})'.format(p,(p/100)*dfsize.sum()))\n",
    "plt.show()\n"
   ]
  },
  {
   "cell_type": "markdown",
   "metadata": {},
   "source": [
    "So almost two thirds of the business is made up of party sizes of 2.  "
   ]
  },
  {
   "cell_type": "markdown",
   "metadata": {},
   "source": []
  },
  {
   "cell_type": "markdown",
   "metadata": {},
   "source": []
  },
  {
   "cell_type": "markdown",
   "metadata": {},
   "source": [
    "## References:"
   ]
  },
  {
   "cell_type": "markdown",
   "metadata": {},
   "source": [
    "Wanderlustingk.com, (2018) **Tipping in the USA** https://www.wanderlustingk.com/travel-blog/tipping-in-the-usa"
   ]
  },
  {
   "cell_type": "markdown",
   "metadata": {},
   "source": [
    "Tip per person served"
   ]
  },
  {
   "cell_type": "code",
   "execution_count": null,
   "metadata": {},
   "outputs": [],
   "source": [
    "sns.relplot(x=\"total_bill\", y=\"tip\", hue=\"sex\",\n",
    "            kind=\"line\", data=df);"
   ]
  },
  {
   "cell_type": "code",
   "execution_count": null,
   "metadata": {},
   "outputs": [],
   "source": []
  }
 ],
 "metadata": {
  "kernelspec": {
   "display_name": "Python 3",
   "language": "python",
   "name": "python3"
  },
  "language_info": {
   "codemirror_mode": {
    "name": "ipython",
    "version": 3
   },
   "file_extension": ".py",
   "mimetype": "text/x-python",
   "name": "python",
   "nbconvert_exporter": "python",
   "pygments_lexer": "ipython3",
   "version": "3.7.2"
  }
 },
 "nbformat": 4,
 "nbformat_minor": 2
}
